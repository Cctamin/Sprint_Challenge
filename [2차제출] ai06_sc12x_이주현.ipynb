{
  "nbformat": 4,
  "nbformat_minor": 5,
  "metadata": {
    "kernelspec": {
      "display_name": "Python 3",
      "language": "python",
      "name": "python3"
    },
    "language_info": {
      "codemirror_mode": {
        "name": "ipython",
        "version": 3
      },
      "file_extension": ".py",
      "mimetype": "text/x-python",
      "name": "python",
      "nbconvert_exporter": "python",
      "pygments_lexer": "ipython3",
      "version": "3.8.2"
    },
    "colab": {
      "name": "ai06_sc12x_이주현.ipynb",
      "provenance": [],
      "collapsed_sections": [
        "ef1670f6-ecee-4ac4-ba5c-8c0245ce9542"
      ]
    }
  },
  "cells": [
    {
      "cell_type": "markdown",
      "metadata": {
        "id": "c39839c2-240a-4ae6-b73b-40a7eefae393"
      },
      "source": [
        "# SC12x\n",
        "\n",
        "## 데이터 탐색 및 가설 검정\n",
        "\n",
        "이번 SC 에서 여러분은 가상의 마케팅 데이터를 활용한 통계 분석을 진행하시게 됩니다. \n",
        "\n",
        "## 데이터셋 정보 :   \n",
        "이 데이터셋은 알뜰 구매를 도와주는 XYZ사의 마케팅 정보를 다룹니다. 개인 정보는 보호를 위해 제거 되어 있습니다.\n",
        "\n",
        "**Attribute Information:**\n",
        "> 2,240 customers of XYZ company:\n",
        "\n",
        "- ID - 고객의 고유값\n",
        "- Year_Birth - 고객의 출생연도\n",
        "- Education - 고객의 최종학력\n",
        "- Marital_Status - 고객의 혼인여부\n",
        "- Income - 고객의 연간 수입\n",
        "- Kidhome - 자녀가 미취학아동인지 여부 (1 - yes, 0 - no)\n",
        "- Teenhome - 자녀가 10대 청소년인지 여부 (1 - yes, 0 - no)\n",
        "- Dt_Customer - 서비스 가입 시기\n",
        "- Recency - 마지막 구매 시기 (일)\n",
        "- MntWines - 최근 2년간 구매한 와인 구매 총액\n",
        "- MntFruits- 최근 2년간 구매한 과일 구매 총액\n",
        "- MntMeatProducts - 최근 2년간 구매한 정육 구매 총액\n",
        "- MntFishProducts - 최근 2년간 구매한 어류 구매 총액\n",
        "- MntSweetProducts - 최근 2년간 구매한 과자 구매 총액\n",
        "- MntGoldProds - 최근 2년간 구매한 황금 구매 총액\n",
        "- NumDealsPurchases - 할인을 통해 제품을 구매한 횟수\n",
        "- NumWebPurchases - 회사의 웹사이트를 통해 구매한 횟수\n",
        "- NumStorePurchases - 가게에서 직접 구매한 횟수\n",
        "- NumWebVisitsMonth - 회사의 웹사이트를 방문한 횟수\n",
        "- Complain - 고객의 최근 2년간 회사에 대한 클레임 여부 (1 - yes, 0 - no)\n",
        "- Country - 고객의 국적"
      ],
      "id": "c39839c2-240a-4ae6-b73b-40a7eefae393"
    },
    {
      "cell_type": "markdown",
      "metadata": {
        "id": "980a3d4b-3c4f-4b0b-bccb-304550e6651d"
      },
      "source": [
        "## Part 1 - 데이터 불러오기"
      ],
      "id": "980a3d4b-3c4f-4b0b-bccb-304550e6651d"
    },
    {
      "cell_type": "markdown",
      "metadata": {
        "id": "3ae7e642-06e6-474c-b7b1-5894f303cab0"
      },
      "source": [
        "### 1) 데이터셋을 업로드합니다"
      ],
      "id": "3ae7e642-06e6-474c-b7b1-5894f303cab0"
    },
    {
      "cell_type": "code",
      "metadata": {
        "colab": {
          "base_uri": "https://localhost:8080/"
        },
        "id": "a80eed92-08da-47d1-b5d8-106ab899bd41",
        "outputId": "5359ad8a-3126-4a5e-8136-656e4d2c0130"
      },
      "source": [
        "from google.colab import drive\n",
        "drive.mount('/content/drive')"
      ],
      "id": "a80eed92-08da-47d1-b5d8-106ab899bd41",
      "execution_count": 208,
      "outputs": [
        {
          "output_type": "stream",
          "text": [
            "Drive already mounted at /content/drive; to attempt to forcibly remount, call drive.mount(\"/content/drive\", force_remount=True).\n"
          ],
          "name": "stdout"
        }
      ]
    },
    {
      "cell_type": "code",
      "metadata": {
        "colab": {
          "base_uri": "https://localhost:8080/"
        },
        "id": "Tcc9EvAOYGxS",
        "outputId": "4b15a62c-41a0-45a1-ee72-9c5ad6759b0d"
      },
      "source": [
        "import pandas as pd\n",
        "filename = '/content/drive/MyDrive/Colab Notebooks/sc12x_dataset.csv'\n",
        "df = pd.read_csv(filename, encoding='euc-kr')\n",
        "print(df.shape)\n",
        "df = df.set_index('Unnamed: 0', drop=True)"
      ],
      "id": "Tcc9EvAOYGxS",
      "execution_count": 209,
      "outputs": [
        {
          "output_type": "stream",
          "text": [
            "(2240, 22)\n"
          ],
          "name": "stdout"
        }
      ]
    },
    {
      "cell_type": "markdown",
      "metadata": {
        "id": "3fd217d1-44f8-4d1b-9dfb-2256256c0329"
      },
      "source": [
        "### 2) 결측치가 있는지 확인한 후 있다면 제거하세요"
      ],
      "id": "3fd217d1-44f8-4d1b-9dfb-2256256c0329"
    },
    {
      "cell_type": "code",
      "metadata": {
        "id": "qivR7xJ-0naf"
      },
      "source": [
        "df.info()"
      ],
      "id": "qivR7xJ-0naf",
      "execution_count": null,
      "outputs": []
    },
    {
      "cell_type": "code",
      "metadata": {
        "id": "604bd686-b49f-4a5e-bd2d-22230cec7380"
      },
      "source": [
        "df.isnull().sum()"
      ],
      "id": "604bd686-b49f-4a5e-bd2d-22230cec7380",
      "execution_count": null,
      "outputs": []
    },
    {
      "cell_type": "code",
      "metadata": {
        "id": "XWgFJf2tZ7Te"
      },
      "source": [
        "df = df.dropna(axis=0)\n",
        "df.isnull().sum()"
      ],
      "id": "XWgFJf2tZ7Te",
      "execution_count": null,
      "outputs": []
    },
    {
      "cell_type": "code",
      "metadata": {
        "id": "96qS-x4wa0L0"
      },
      "source": [
        "df.info()"
      ],
      "id": "96qS-x4wa0L0",
      "execution_count": null,
      "outputs": []
    },
    {
      "cell_type": "markdown",
      "metadata": {
        "id": "b5affff0-6353-4176-811e-0a167ea2678c"
      },
      "source": [
        "### 3) 아래의 특성들을 만드세요\n",
        "\n",
        "1. **TotalMntProducts** - 최근 2년간 구매한 모든 제품 가격들을 합한 값을 가진 계산한 특성입니다\n",
        "\n",
        "2. **TotalNumPurchases** - 구매횟수를 모두 합친 값을 가진 특성입니다\n",
        "\n",
        "3. **DaysSinceJoined** - 오늘 날짜를 기준으로 가입한 기간을 보여주는 특성입니다 \n",
        "\n",
        "4. **VIP** - 누적 구매 금액이 $2,000 이상을 넘고, 오늘을 기준으로 가입기간이 5년 이상이 된다면 1, 아니면 0의 값을 가진 칼럼을 만듭니다"
      ],
      "id": "b5affff0-6353-4176-811e-0a167ea2678c"
    },
    {
      "cell_type": "code",
      "metadata": {
        "id": "551941f2-27a1-4192-a3f8-b24fa0607862"
      },
      "source": [
        "df['TotalMntProducts'] = df['MntWines']+df['MntGoldProds']+df['MntFruits']+df['MntMeatProducts']+df['MntFishProducts']+df['MntSweetProducts']\n",
        "df['TotalNumPurchases'] = df['NumDealsPurchases']+df['NumStorePurchases']+df['NumWebPurchases']"
      ],
      "id": "551941f2-27a1-4192-a3f8-b24fa0607862",
      "execution_count": 214,
      "outputs": []
    },
    {
      "cell_type": "code",
      "metadata": {
        "id": "IpMzgjHHbavP"
      },
      "source": [
        "from datetime import datetime\n",
        "\n",
        "df['Dt_Customer'] = pd.to_datetime(df['Dt_Customer'])\n",
        "df['DaysSinceJoined'] = (pd.to_datetime(datetime.now()) - df['Dt_Customer']).dt.days"
      ],
      "id": "IpMzgjHHbavP",
      "execution_count": 215,
      "outputs": []
    },
    {
      "cell_type": "code",
      "metadata": {
        "id": "H6vtIzvx2te_"
      },
      "source": [
        "df.loc[((df['TotalMntProducts'] >= 2000) & (df['DaysSinceJoined'] >= 1825)), 'VIP'] = 1\n",
        "df.loc[~((df['TotalMntProducts'] >= 2000) & (df['DaysSinceJoined'] >= 1825)), 'VIP'] = 0\n",
        "#df['VIP'].value_counts()"
      ],
      "id": "H6vtIzvx2te_",
      "execution_count": 216,
      "outputs": []
    },
    {
      "cell_type": "markdown",
      "metadata": {
        "id": "4dfef8dd-c8df-40d7-b3af-80b8ccfaf9ae"
      },
      "source": [
        "## Part 2 - 가설 검정\n",
        "\n",
        "### Hypothesis Test    \n",
        "   - 수치형 (numerical/continuous) 칼럼이 어떤 차이를 보이는지 t-test를 통해 가설을 세우고 검증하세요. (최소 2개)\n",
        "   - 범주형 (categorical) 칼럼이 어떤 차이를 보이는지 $\\chi^2-test$를 통해 가설을 세우고 검증하세요. (최소 2개)  \n",
        "  **Hint:** categorical feature 간의 \"cross tab\"을 생성하여 탐색해 보세요 (aka [contingency tables](https://en.wikipedia.org/wiki/Contingency_table)). 그리고 $\\chi^2 test$를 적용해 보세요. [pandas.crosstab](http://pandas.pydata.org/pandas-docs/stable/reference/api/pandas.crosstab.html)을 사용하면 contingency table 을 생성할 수 있습니다. 그리고 [scipy.stats.chi2_contingency](https://docs.scipy.org/doc/scipy/reference/generated/scipy.stats.chi2_contingency.html)를 사용하면 $\\chi^2$ statistics 를 계산할 수 있습니다.    "
      ],
      "id": "4dfef8dd-c8df-40d7-b3af-80b8ccfaf9ae"
    },
    {
      "cell_type": "code",
      "metadata": {
        "id": "91tvH92m32AW"
      },
      "source": [
        "from scipy import stats"
      ],
      "id": "91tvH92m32AW",
      "execution_count": 217,
      "outputs": []
    },
    {
      "cell_type": "code",
      "metadata": {
        "id": "pQIp7AR459t2"
      },
      "source": [
        "df.head()"
      ],
      "id": "pQIp7AR459t2",
      "execution_count": null,
      "outputs": []
    },
    {
      "cell_type": "code",
      "metadata": {
        "id": "fabqjkwoxqLG"
      },
      "source": [
        "# t-test 1\n",
        "\n",
        "'''\n",
        "귀무가설 : 2년간 와인 구매 총액과 2년간 육류 구매 총액의 평균은 통계적으로 유의미한 차이가 없다.\n",
        "대립가설 : 2년간 와인 구매 총액과 2년간 육류 구매 총액의 평균은 통계적으로 유의미한 차이가 있다.\n",
        "\n",
        "결과 : p-value가 0.05보다 작기에 귀무가설 기각하고 대립가설을 채택한다. 총 구매 액수와 횟수의 평균은 통계적으로 유의미하게 차이가 있다. \n",
        "'''\n",
        "\n",
        "print(df['MntWines'].mean())\n",
        "print(df['MntMeatProducts'].mean())\n",
        "stats.ttest_ind(df['MntWines'],df['MntMeatProducts'])"
      ],
      "id": "fabqjkwoxqLG",
      "execution_count": null,
      "outputs": []
    },
    {
      "cell_type": "code",
      "metadata": {
        "id": "-JZH82a3yuCi"
      },
      "source": [
        "# t-test 2\n",
        "\n",
        "'''   다시 작성\n",
        "귀무가설 : 웹을 통해 제품을 구매한 횟수와 할인을 통해 제품을 구매한 횟수의 평균은 통계적으로 유의미하게 차이가 없다.\n",
        "대립가설 : 웹을 통해 제품을 구매한 횟수와 할인을 통해 제품을 구매한 횟수의 평균은 통계적으로 유의미하게 차이가 있다.\n",
        "\n",
        "결과 : p-value가 0.05보다 작기에 귀무가설 기각하고 대립가설을 채택한다. 웹을 통해 제품을 구매한 횟수와 할인을 통해 제품을 구매한 횟수의 평균은 통계적으로 유의미하게 차이가 있다.\n",
        "'''\n",
        "\n",
        "print(df['NumDealsPurchases'].mean())\n",
        "print(df['NumWebPurchases'].mean())\n",
        "stats.ttest_ind(df['NumDealsPurchases'],df['NumWebPurchases'])"
      ],
      "id": "-JZH82a3yuCi",
      "execution_count": null,
      "outputs": []
    },
    {
      "cell_type": "code",
      "metadata": {
        "id": "NitY6wBI9LMr"
      },
      "source": [
        "# chi-sqaure test 1\n",
        "from scipy.stats import chi2_contingency\n",
        "'''\n",
        "귀무가설 : 고객의 결혼 여부와 교육 수준 차이는 서로 연관이 없을 것이다.\n",
        "대립가설 : 고객의 결혼 여부와 교육 수준 차이는 서로 연관이 있을 것이다.\n",
        "\n",
        "chi-square test를 통해 p-value가 0.53나왔음으로 귀무가설을 기각하지 못한다.\n",
        "따라서 귀무가설을 채택하며, 고객의 결혼 여부와 교육 수준 차이는 서로 연관이 없다고 할 수 있다.\n",
        "'''\n",
        "marital_edu = pd.crosstab(df['Marital_Status'],df['Education'])\n",
        "stat, p, dof, expected = chi2_contingency(marital_edu)\n",
        "print(stat, p, dof)"
      ],
      "id": "NitY6wBI9LMr",
      "execution_count": null,
      "outputs": []
    },
    {
      "cell_type": "code",
      "metadata": {
        "id": "w9K3Tzi39Hjt"
      },
      "source": [
        "# chi-sqaure test 2\n",
        "'''\n",
        "귀무가설 : 고객의 국적과 결혼 여부의 차이는 서로 연관이 없을 것이다.\n",
        "대립가설 : 고객의 국적과 결혼 여부의 차이는 서로 연관이 있을 것이다.\n",
        "\n",
        "chi-square test를 통해 p-value가 0.05보다 매우 작기에 귀무가설을 기각하고 대립가설을 채택한다.\n",
        "고객의 국적과 결혼 여부 차이는 서로 연관이 있다고 할 수 있다.\n",
        "'''\n",
        "marital_counrty = pd.crosstab(df['Marital_Status'],df['Country'])\n",
        "stat, p, dof, expected = chi2_contingency(marital_counrty)\n",
        "print(stat, p, dof)"
      ],
      "id": "w9K3Tzi39Hjt",
      "execution_count": null,
      "outputs": []
    },
    {
      "cell_type": "markdown",
      "metadata": {
        "id": "fe2d3868-0826-4f59-bba3-8219abb422d9"
      },
      "source": [
        "## Part 3 - Analysis and Interpretation\n",
        "\n",
        "자, 위 파트들에서 우리는 데이터들을 잘 관찰했습니다. 다음의 질문들에 텍스트로 답변하십시오.  \n",
        "\n",
        "1) 여러분들이 수행한 두 개 이상의 t-test 들을 해석하고 설명해 보세요.\n",
        "2) 여러분들이 수행한 두 개 이상의 $\\chi^2$ test 들을 해석하고 설명해 보세요."
      ],
      "id": "fe2d3868-0826-4f59-bba3-8219abb422d9"
    },
    {
      "cell_type": "markdown",
      "metadata": {
        "id": "55cec2cd-3e51-408c-adf3-b6d8cfb1b9c1"
      },
      "source": [
        "# Answer\n",
        "\n",
        "## T-Test\n",
        "### 1. 2년간 육류 구매 총액과 와인 총액\n",
        "> t-test를 통해 p-value가 0.05보다 작게 나와 두 집단의 평균은 유의미한 차이가 있다는 것을 알 수 있습니다.\n",
        ">\n",
        "> 또한 평균을 비교했을 때, 육류의 구매 총액이 유의미하게 더 크다는 것을 알 수 있습니다.\n",
        "\n",
        "### 2. 웹을 통한 구매와 할인을 통해 제품을 구매한 횟수\n",
        "> t-test를 통해 p-value가 0.05보다 작게 나와 두 집단의 평균은 유의미한 차이가 있다는 것을 알 수 있습니다.\n",
        ">\n",
        "> 평균을 비교했을 때, 웹 구매 횟수가 더 많을 것을 알 수 있습니다.\n",
        "\n",
        "\n",
        "## Chi-sqaure test\n",
        "### 1. 고객의 결혼 여부와 교육 수준 차이\n",
        "> chi-square test를 통해 p-value가 0.53나왔음으로 귀무가설을 기각하지 못한다. \n",
        ">\n",
        "> 두 집단은 독립이다. 두 집단은 연관성이 없다. \n",
        "\n",
        "### 2. 고객의 국적과 결혼 여부의 차이\n",
        "> chi-square test를 통해 p-value가 0.05보다 매우 작기에 귀무가설을 기각하고 대립가설을 채택한다. \n",
        "> \n",
        "> 두 집단은 독립이 아니다. 두 집단은 연관성이 없다고 할 수 없다. 고객의 국적과 결혼 여부 사이에 상관 관계가 있을 것이다.\n",
        "\n",
        " \n"
      ],
      "id": "55cec2cd-3e51-408c-adf3-b6d8cfb1b9c1"
    },
    {
      "cell_type": "markdown",
      "metadata": {
        "id": "ef1670f6-ecee-4ac4-ba5c-8c0245ce9542"
      },
      "source": [
        "# Advanced Goals: \n",
        "> SC 에서 3점을 얻고 싶으시다면 아래의 문제를 모두 풀어주세요. 다만 2점을 얻었다면 충분합니다. 시간과 여유가 있는 분들만 도전해 보시기 바랍니다. \n",
        "\n",
        "## Part 1: \n",
        "\n",
        "여러분들의 dataframe column들이 적절한 data type을 가지도록 작업해 보세요.   \n",
        "**Hint:** 특정 column datatype 이 float 이나 integer 로 되어있음에도 불구하고 \"object\" 라고 되어 있는 경우가 있습니다. 이 경우, `pd.to_numeric()`, `pd.to_datetime()` 과 같은 방법으로 칼럼들을 변환해 보세요. \n",
        "주석을 통해 읽는 이가 쉽게 읽을 수 있고, 전체 내용을 쉽게 따라갈 수 있다면 3점을 얻을 수 있습니다. \n",
        "\n",
        "## Part 2:\n",
        "\n",
        "데이터 셋의 적절한 column들의 조합으로 $t-test$와 $\\chi^2 test$가 쉽게 수행될 수 있도록 함수를 작성해 보세요.\n",
        "**데이터 타입에 알맞은 가설검정이 실행되야 하는 것을 잊지 마세요**\n",
        "\n",
        "## Part 3: \n",
        "평균 추정치에 대한 신뢰 구간(confidence interval)을 계산하고 결과를 작성하세요 (최소 두 개 선택). 계산한 추정치가 얼마나 정확한지 시각적으로 확인할 수 있도록 matplotlib, seaborn 등의 시각화 라이브러리를 활용해서 나타내세요"
      ],
      "id": "ef1670f6-ecee-4ac4-ba5c-8c0245ce9542"
    },
    {
      "cell_type": "code",
      "metadata": {
        "id": "9c36d746-4327-4bea-91c4-bb74f29bb5ba"
      },
      "source": [
        "### Part 1"
      ],
      "id": "9c36d746-4327-4bea-91c4-bb74f29bb5ba",
      "execution_count": 225,
      "outputs": []
    },
    {
      "cell_type": "code",
      "metadata": {
        "id": "Ae445VhQQTAZ"
      },
      "source": [
        "df.dtypes\n",
        "# Income은 numeric이여야 함."
      ],
      "id": "Ae445VhQQTAZ",
      "execution_count": null,
      "outputs": []
    },
    {
      "cell_type": "code",
      "metadata": {
        "colab": {
          "base_uri": "https://localhost:8080/"
        },
        "id": "oMMYmFYvQb8S",
        "outputId": "c639cf2d-db19-4f51-8852-129aae77e025"
      },
      "source": [
        "# income (object -> numeric)\n",
        "def tofloat(x):\n",
        "  x = x.replace('$','').replace(',','')\n",
        "  return pd.to_numeric(x)\n",
        "\n",
        "df[' Income '] = df[' Income '].apply(toint)\n",
        "df[' Income '].dtypes"
      ],
      "id": "oMMYmFYvQb8S",
      "execution_count": 227,
      "outputs": [
        {
          "output_type": "execute_result",
          "data": {
            "text/plain": [
              "dtype('float64')"
            ]
          },
          "metadata": {
            "tags": []
          },
          "execution_count": 227
        }
      ]
    },
    {
      "cell_type": "code",
      "metadata": {
        "colab": {
          "base_uri": "https://localhost:8080/"
        },
        "id": "8Y13Fh32W7FN",
        "outputId": "861cfe21-dd6d-495b-cc2c-9c93ea3c3753"
      },
      "source": [
        "# 날짜 개념이므로 날짜 type으로\n",
        "df['Year_Birth'] = pd.to_datetime(df['Year_Birth'])\n",
        "df['Year_Birth'].dtypes"
      ],
      "id": "8Y13Fh32W7FN",
      "execution_count": 228,
      "outputs": [
        {
          "output_type": "execute_result",
          "data": {
            "text/plain": [
              "dtype('<M8[ns]')"
            ]
          },
          "metadata": {
            "tags": []
          },
          "execution_count": 228
        }
      ]
    },
    {
      "cell_type": "code",
      "metadata": {
        "id": "dLBC4rpuT0mr"
      },
      "source": [
        "#df['Year_Birth'] = df['Year_Birth'].dt.year\n",
        "df.head()"
      ],
      "id": "dLBC4rpuT0mr",
      "execution_count": null,
      "outputs": []
    },
    {
      "cell_type": "code",
      "metadata": {
        "id": "r4K7JVFQXq2B"
      },
      "source": [
        "### Part 2"
      ],
      "id": "r4K7JVFQXq2B",
      "execution_count": 206,
      "outputs": []
    },
    {
      "cell_type": "code",
      "metadata": {
        "id": "hBYolhT1Xwrw"
      },
      "source": [
        "### t-test, chi_sqaure p-value 출력 함수\n",
        "def t_chi_test(df1, df2):\n",
        "  import numpy as np\n",
        "  from scipy.stats import chi2_contingency\n",
        "  from scipy import stats\n",
        "  \n",
        "  if (np.issubdtype(df1.dtypes, np.number)) & (np.issubdtype(df2.dtypes, np.number)): \n",
        "    print(stats.ttest_ind(df1,df2))\n",
        "  else :\n",
        "    df_crosstab = pd.crosstab(df1,df2)\n",
        "    print(chi2_contingency(df_crosstab))\n",
        "  return "
      ],
      "id": "hBYolhT1Xwrw",
      "execution_count": 276,
      "outputs": []
    },
    {
      "cell_type": "code",
      "metadata": {
        "id": "VtBYdwjxxokL"
      },
      "source": [
        "### 이곳에 Part 3 답안을 작성해주시기 바랍니다"
      ],
      "id": "VtBYdwjxxokL",
      "execution_count": null,
      "outputs": []
    },
    {
      "cell_type": "code",
      "metadata": {
        "id": "PSzhBZWi2fd8"
      },
      "source": [
        "from scipy.stats import t\n",
        "\n",
        "def t_inerval(df):\n",
        "# 표본의 크기\n",
        "  n = len(df)\n",
        "# 자유도\n",
        "  dof = n-1\n",
        "# 평균의 평균\n",
        "  mean = np.mean(df)\n",
        "# 표본의 표준편차\n",
        "  sample_std = np.std(df, ddof = 1)\n",
        "# 표준 오차\n",
        "  std_err = sample_std / n ** 0.5 # sample_std / sqrt(n)\n",
        "\n",
        "  CI = t.interval(.95, dof, loc = mean, scale = std_err) \n",
        "  return print(\"95% 신뢰구간: \", CI)"
      ],
      "id": "PSzhBZWi2fd8",
      "execution_count": 327,
      "outputs": []
    },
    {
      "cell_type": "code",
      "metadata": {
        "id": "XxVFlc5fTY0d"
      },
      "source": [
        "def confidence_interval(data, confidence = 0.95):\n",
        "  data = np.array(data)\n",
        "  mean = np.mean(data)\n",
        "  n = len(data)\n",
        "  \n",
        "  # std / sqrt(n)\n",
        "  stderr = stats.sem(data) \n",
        "  # Standard Error of Mean (https://docs.scipy.org/doc/scipy/reference/generated/scipy.stats.sem.html)\n",
        "  # s / sqrt(n)\n",
        "\n",
        "  # length_of_one_interval\n",
        "  interval = stderr * stats.t.ppf( (1 + confidence) / 2 , n - 1) # ppf : inverse of cdf\n",
        "  return (mean, mean - interval, mean + interval)"
      ],
      "id": "XxVFlc5fTY0d",
      "execution_count": 328,
      "outputs": []
    },
    {
      "cell_type": "code",
      "metadata": {
        "colab": {
          "base_uri": "https://localhost:8080/"
        },
        "id": "mhsYTVcO22Po",
        "outputId": "c25e2c45-3017-44c7-b8ba-0e4f12deb028"
      },
      "source": [
        "np.random.seed(77)\n",
        "sample = np.random.choice(df[' Income '], 100)\n",
        "t_inerval(sample)"
      ],
      "id": "mhsYTVcO22Po",
      "execution_count": 329,
      "outputs": [
        {
          "output_type": "stream",
          "text": [
            "95% 신뢰구간:  (45535.95580294728, 71592.96419705272)\n"
          ],
          "name": "stdout"
        }
      ]
    },
    {
      "cell_type": "code",
      "metadata": {
        "colab": {
          "base_uri": "https://localhost:8080/"
        },
        "id": "tEECmA9KTxqc",
        "outputId": "a2d66d33-634f-4d5f-ae90-5f5e95c8a12b"
      },
      "source": [
        "confidence_interval(sample)"
      ],
      "id": "tEECmA9KTxqc",
      "execution_count": 330,
      "outputs": [
        {
          "output_type": "execute_result",
          "data": {
            "text/plain": [
              "(58564.46, 45535.95580294728, 71592.96419705272)"
            ]
          },
          "metadata": {
            "tags": []
          },
          "execution_count": 330
        }
      ]
    },
    {
      "cell_type": "code",
      "metadata": {
        "colab": {
          "base_uri": "https://localhost:8080/",
          "height": 293
        },
        "id": "JpgY92SL-Eyb",
        "outputId": "218578ed-2725-462a-b670-2bfe38cb7767"
      },
      "source": [
        "import matplotlib.pyplot as plt\n",
        "\n",
        "x = sample\n",
        "rv = stats.norm(loc = mean, scale = sample_std) \n",
        "y = rv.pdf(x)\n",
        "plt.plot(x,y)"
      ],
      "id": "JpgY92SL-Eyb",
      "execution_count": 324,
      "outputs": [
        {
          "output_type": "execute_result",
          "data": {
            "text/plain": [
              "[<matplotlib.lines.Line2D at 0x7f71f7233ad0>]"
            ]
          },
          "metadata": {
            "tags": []
          },
          "execution_count": 324
        },
        {
          "output_type": "display_data",
          "data": {
            "image/png": "[encoded data removed]",
            "text/plain": [
              "<Figure size 432x288 with 1 Axes>"
            ]
          },
          "metadata": {
            "tags": [],
            "needs_background": "light"
          }
        }
      ]
    },
    {
      "cell_type": "code",
      "metadata": {
        "colab": {
          "base_uri": "https://localhost:8080/",
          "height": 265
        },
        "id": "AzBAv5W6T5OC",
        "outputId": "9e53bbc1-0b85-4125-949d-f9a1ef3aa172"
      },
      "source": [
        "fig = plt.figure()\n",
        "# ax = fig.add_axes([0,0,1,1])\n",
        "\n",
        "\n",
        "# 컬럼 별 평균 계산\n",
        "col1_mean, col2_mean = np.mean(df['MntMeatProducts']), np.mean(df['MntWines'])\n",
        "\n",
        "\n",
        "col1_confidence = confidence_interval(df['MntMeatProducts'])\n",
        "col2_confidence = confidence_interval(df['MntWines'])\n",
        "\n",
        "# plot 생성\n",
        "plt.bar(x=col1_mean, height=col1_mean, yerr=col1_confidence[0]-col1_mean, capsize=10)\n",
        "plt.bar(x=col2_mean, height=col2_mean, yerr=col2_confidence[0]-col2_mean, capsize=10)\n",
        "\n",
        "# plot 보여주기\n",
        "plt.show()"
      ],
      "id": "AzBAv5W6T5OC",
      "execution_count": 332,
      "outputs": [
        {
          "output_type": "display_data",
          "data": {
            "image/png": "[encoded data removed]",
            "text/plain": [
              "<Figure size 432x288 with 1 Axes>"
            ]
          },
          "metadata": {
            "tags": [],
            "needs_background": "light"
          }
        }
      ]
    }
  ]
}